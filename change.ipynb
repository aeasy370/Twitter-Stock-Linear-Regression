{
 "cells": [
  {
   "cell_type": "code",
   "execution_count": 20,
   "metadata": {},
   "outputs": [],
   "source": [
    "import numpy as np\n",
    "import pandas as pd\n",
    "import matplotlib.pyplot as plt\n",
    "\n",
    "from sklearn import linear_model\n",
    "from sklearn.model_selection import train_test_split\n",
    "from sklearn.metrics import mean_squared_error, r2_score"
   ]
  },
  {
   "cell_type": "code",
   "execution_count": 25,
   "metadata": {},
   "outputs": [
    {
     "name": "stdout",
     "output_type": "stream",
     "text": [
      "223\n",
      "[  2.  -5.  -1. -13.   0.  -1.  -3.  -2.  -7.   1.   2.   2.   2.  -2.\n",
      "   0.   0.   0.   1.   3.   1.   1.  -2.   1.  -1.  -1.  -1.  -2.  -1.\n",
      "   1.   0.   0.   1.  -2.  -9.   0.  -1.  -1.   0.  -1.   0.  -3.  -2.\n",
      "   2.   0.   1.   0.  -2.  -2.   0.   0.   0.  -2.  -1.  -2.   0.  -2.\n",
      "  -1.  -1.   0.   0.   0.   0.   0.   0.   0.   1.   1.   0.   0.   1.\n",
      "  -2.   0.   0.   0.   1.  -2.   0.   0.   1.   0.   0.   0.   0.   0.\n",
      "   1.   0.   0.   0.   0.   1.  -3.   0.   0.   1.   0.   0.   0.   0.\n",
      "   2.   0.   2.   0.  -2.   0.   0.   3.  -3.   0.   2.   0.   0.   3.\n",
      "   4.  -1.   0. -12.   0.   3.  -3.   0.   0.  -1.   0.  -1.   0.  -5.\n",
      "   2.   0.   2.   0.   0.   1.   2.   0.   1.   0.  -1.  -2.   0.   2.\n",
      "   3.   0.   0.   0.  -1.   0.  -1.   0.   0.  -1.   1.  -1.   1.   0.\n",
      "   1.   0.  -8.  -1.   0.   2.   0.   0.  -1.  -3.   3.   1.   0.   1.\n",
      "  -1.   0.   2.  -2. -10.   0.   1.   5.  -1.  -6.   2.  14.   9.   4.\n",
      "  -2.   5.   0.  -2.   4.   2.   6.  -1.   1.   0.  -2.   1.   1.  -4.\n",
      "   0.  -7.  -1.  -2.   0.   0.   0.  -4.   3.  -1.   0.   1.   8.   2.\n",
      "   1.   0.   0.   0.   0.   3.   1.   0.  -1.   0.   1.   1.   3.]\n"
     ]
    }
   ],
   "source": [
    "X = pd.read_csv(\"TWTR.csv\")\n",
    "y = np.zeros((X.shape[0] // 10))\n",
    "X = np.array_split(X, X.shape[0] / 10)\n",
    "print(len(y))\n",
    "\n",
    "for i in range(len(X)):\n",
    "\tstock_open = X[i].Open.to_numpy()\n",
    "\tstock_close = X[i].Close.to_numpy()\n",
    "\ty[i] = int(stock_close[9] - stock_open[5])\n",
    "print(y)\n",
    "\n",
    "# X_train, X_test, y_train, y_test = train_test_split(X, y, test_size=0.2, random_state=42)"
   ]
  },
  {
   "cell_type": "code",
   "execution_count": null,
   "metadata": {},
   "outputs": [],
   "source": []
  }
 ],
 "metadata": {
  "kernelspec": {
   "display_name": "Python 3.10.8 64-bit (microsoft store)",
   "language": "python",
   "name": "python3"
  },
  "language_info": {
   "codemirror_mode": {
    "name": "ipython",
    "version": 3
   },
   "file_extension": ".py",
   "mimetype": "text/x-python",
   "name": "python",
   "nbconvert_exporter": "python",
   "pygments_lexer": "ipython3",
   "version": "3.10.8"
  },
  "orig_nbformat": 4,
  "vscode": {
   "interpreter": {
    "hash": "91766e525620e6fa0fad32142a4aaaf25590619b4dc8d962b3d2053d23d19ad1"
   }
  }
 },
 "nbformat": 4,
 "nbformat_minor": 2
}
